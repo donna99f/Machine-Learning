{
  "nbformat": 4,
  "nbformat_minor": 0,
  "metadata": {
    "colab": {
      "provenance": [],
      "authorship_tag": "ABX9TyPxftjSt5MUw4Ns8rQDARPt",
      "include_colab_link": true
    },
    "kernelspec": {
      "name": "python3",
      "display_name": "Python 3"
    },
    "language_info": {
      "name": "python"
    }
  },
  "cells": [
    {
      "cell_type": "markdown",
      "metadata": {
        "id": "view-in-github",
        "colab_type": "text"
      },
      "source": [
        "<a href=\"https://colab.research.google.com/github/donna99f/Machine-Learning/blob/main/Regression_with_one_variable.ipynb\" target=\"_parent\"><img src=\"https://colab.research.google.com/assets/colab-badge.svg\" alt=\"Open In Colab\"/></a>"
      ]
    },
    {
      "cell_type": "code",
      "source": [
        "import numpy as np\n",
        "import pandas as pd\n",
        "import matplotlib.pyplot as plt"
      ],
      "metadata": {
        "id": "OQV1ZELhhfQk"
      },
      "execution_count": 2,
      "outputs": []
    },
    {
      "cell_type": "markdown",
      "source": [
        "**Reading Data**"
      ],
      "metadata": {
        "id": "LMrNwPgfh41h"
      }
    },
    {
      "cell_type": "code",
      "source": [
        "data=pd.read_csv('/content/ex1data1.txt',header=None, names=['Population','Profit'])"
      ],
      "metadata": {
        "id": "Kow8j8Zjh9s8"
      },
      "execution_count": 3,
      "outputs": []
    },
    {
      "cell_type": "markdown",
      "source": [
        "Data details"
      ],
      "metadata": {
        "id": "mDHmhEXvJPQA"
      }
    },
    {
      "cell_type": "code",
      "source": [
        "print(data.head(10))\n",
        "print(\"______________________\")\n",
        "print(data.describe())\n",
        "print(\"______________________\")\n"
      ],
      "metadata": {
        "id": "DBBFEV7KnL7y",
        "colab": {
          "base_uri": "https://localhost:8080/"
        },
        "outputId": "8af96332-8524-478c-b534-d6302ee18076"
      },
      "execution_count": 4,
      "outputs": [
        {
          "output_type": "stream",
          "name": "stdout",
          "text": [
            "   Population   Profit\n",
            "0      6.1101  17.5920\n",
            "1      5.5277   9.1302\n",
            "2      8.5186  13.6620\n",
            "3      7.0032  11.8540\n",
            "4      5.8598   6.8233\n",
            "5      8.3829  11.8860\n",
            "6      7.4764   4.3483\n",
            "7      8.5781  12.0000\n",
            "8      6.4862   6.5987\n",
            "9      5.0546   3.8166\n",
            "______________________\n",
            "       Population     Profit\n",
            "count   97.000000  97.000000\n",
            "mean     8.159800   5.839135\n",
            "std      3.869884   5.510262\n",
            "min      5.026900  -2.680700\n",
            "25%      5.707700   1.986900\n",
            "50%      6.589400   4.562300\n",
            "75%      8.578100   7.046700\n",
            "max     22.203000  24.147000\n",
            "______________________\n"
          ]
        }
      ]
    },
    {
      "cell_type": "markdown",
      "source": [
        "**Plot data**"
      ],
      "metadata": {
        "id": "vUzKPyw5Jviv"
      }
    },
    {
      "cell_type": "code",
      "source": [
        "data.plot(kind='scatter',x='Population',y='Profit',figsize=(5,5))"
      ],
      "metadata": {
        "colab": {
          "base_uri": "https://localhost:8080/",
          "height": 482
        },
        "id": "51BcSmGTJyVy",
        "outputId": "f2270c7a-16af-44c6-b80e-c4e8d7c73741"
      },
      "execution_count": 5,
      "outputs": [
        {
          "output_type": "execute_result",
          "data": {
            "text/plain": [
              "<Axes: xlabel='Population', ylabel='Profit'>"
            ]
          },
          "metadata": {},
          "execution_count": 5
        },
        {
          "output_type": "display_data",
          "data": {
            "text/plain": [
              "<Figure size 500x500 with 1 Axes>"
            ],
            "image/png": "[encoded data removed]"
          },
          "metadata": {}
        }
      ]
    },
    {
      "cell_type": "markdown",
      "source": [
        "**Inserting Ones column**"
      ],
      "metadata": {
        "id": "1emCTTzfKM3B"
      }
    },
    {
      "cell_type": "code",
      "source": [
        "data.insert(0,'Ones',1)\n",
        "print(data.head(10))"
      ],
      "metadata": {
        "colab": {
          "base_uri": "https://localhost:8080/"
        },
        "id": "Wod586xoKLba",
        "outputId": "5de0c036-2bd1-48cd-c36a-0e417ee4557e"
      },
      "execution_count": 6,
      "outputs": [
        {
          "output_type": "stream",
          "name": "stdout",
          "text": [
            "   Ones  Population   Profit\n",
            "0     1      6.1101  17.5920\n",
            "1     1      5.5277   9.1302\n",
            "2     1      8.5186  13.6620\n",
            "3     1      7.0032  11.8540\n",
            "4     1      5.8598   6.8233\n",
            "5     1      8.3829  11.8860\n",
            "6     1      7.4764   4.3483\n",
            "7     1      8.5781  12.0000\n",
            "8     1      6.4862   6.5987\n",
            "9     1      5.0546   3.8166\n"
          ]
        }
      ]
    },
    {
      "cell_type": "markdown",
      "source": [
        "**Separating data**"
      ],
      "metadata": {
        "id": "uB4fTQoAKjL3"
      }
    },
    {
      "cell_type": "code",
      "source": [
        "cols=data.shape[1]  #data_shape 97*3 so shape[1] is 3\n",
        "X=data.iloc[ : , 0:cols-1] #Training Set\n",
        "Y=data.iloc[ : , cols-1:cols] #Target Set\n",
        "print(\"Training Set \\n\",X.head(10))\n",
        "print(\"______________________\")\n",
        "print(\"Target Set \\n\",Y.head(10))\n"
      ],
      "metadata": {
        "colab": {
          "base_uri": "https://localhost:8080/"
        },
        "id": "H9Z5cDoPLCef",
        "outputId": "3b3f3c11-cfad-4016-d082-c478eae8a15c"
      },
      "execution_count": 9,
      "outputs": [
        {
          "output_type": "stream",
          "name": "stdout",
          "text": [
            "Training Set \n",
            "    Ones  Population\n",
            "0     1      6.1101\n",
            "1     1      5.5277\n",
            "2     1      8.5186\n",
            "3     1      7.0032\n",
            "4     1      5.8598\n",
            "5     1      8.3829\n",
            "6     1      7.4764\n",
            "7     1      8.5781\n",
            "8     1      6.4862\n",
            "9     1      5.0546\n",
            "______________________\n",
            "Target Set \n",
            "     Profit\n",
            "0  17.5920\n",
            "1   9.1302\n",
            "2  13.6620\n",
            "3  11.8540\n",
            "4   6.8233\n",
            "5  11.8860\n",
            "6   4.3483\n",
            "7  12.0000\n",
            "8   6.5987\n",
            "9   3.8166\n"
          ]
        }
      ]
    },
    {
      "cell_type": "markdown",
      "source": [
        "**Converting data to matrices**"
      ],
      "metadata": {
        "id": "f0XgLhMiMeeQ"
      }
    },
    {
      "cell_type": "code",
      "source": [
        "X=np.matrix(X)\n",
        "Y=np.matrix(Y)\n",
        "T=np.array([0,0])\n",
        "theta=np.matrix(T)\n",
        "print('theta \\n',theta)"
      ],
      "metadata": {
        "colab": {
          "base_uri": "https://localhost:8080/"
        },
        "id": "WznAYIZVMo9z",
        "outputId": "0b671219-56ca-40bf-c526-500bb03b923d"
      },
      "execution_count": 18,
      "outputs": [
        {
          "output_type": "stream",
          "name": "stdout",
          "text": [
            "theta \n",
            " [[0 0]]\n"
          ]
        }
      ]
    },
    {
      "cell_type": "markdown",
      "source": [
        "**Cost Function**"
      ],
      "metadata": {
        "id": "ScmyQORTOptL"
      }
    },
    {
      "cell_type": "code",
      "source": [
        "def computeCost(X,Y,theta):\n",
        "  z=np.power(((X*theta.T)-Y),2)\n",
        "  return np.sum(z) / (2* len(X))\n",
        "  #cost=(1/2m)summation of(theta*X - Y )^2\n",
        "  #m = len(X)\n",
        "print('Cost (X,Y,theta) = ',computeCost(X,Y,theta))"
      ],
      "metadata": {
        "colab": {
          "base_uri": "https://localhost:8080/"
        },
        "id": "uvu72jfSOudB",
        "outputId": "5644e131-b9b6-40d2-afb4-3e605dbe9330"
      },
      "execution_count": 19,
      "outputs": [
        {
          "output_type": "stream",
          "name": "stdout",
          "text": [
            "Cost (X,Y,theta) =  32.072733877455676\n"
          ]
        }
      ]
    },
    {
      "cell_type": "markdown",
      "source": [
        "**Gradient Descent Function**"
      ],
      "metadata": {
        "id": "wjgcgJNfQeSx"
      }
    },
    {
      "cell_type": "code",
      "source": [
        "def gradientDescent(X,Y,theta,alpha,iters):\n",
        "  temp=np.matrix(np.zeros(theta.shape))\n",
        "  parameters=int(theta.ravel().shape[1])\n",
        "  cost=np.zeros(iters)\n",
        "\n",
        "  for i in range (iters):\n",
        "    error=(X*theta.T)-Y\n",
        "    for j in range (parameters):\n",
        "      term=np.multiply(error, X[:,j])\n",
        "      temp[0,j]=theta[0,j] - ((alpha/len(X))* np.sum(term))\n",
        "\n",
        "    theta=temp\n",
        "    cost[i]=computeCost(X,Y,theta)\n",
        "  return theta,cost\n"
      ],
      "metadata": {
        "id": "MqcUc8oRQwXa"
      },
      "execution_count": 20,
      "outputs": []
    },
    {
      "cell_type": "code",
      "source": [
        "alpha=0.01 #Learning rate\n",
        "iters=1000 #iterations\n",
        "g,cost = gradientDescent(X,Y,theta,alpha,iters)\n",
        "\n",
        "print('new theta = \\n', g)\n",
        "print('Cost \\n', cost[265:275])\n",
        "print('Cost \\n', cost[988:999])\n",
        "print('Final cost \\n', computeCost(X,Y,g))"
      ],
      "metadata": {
        "colab": {
          "base_uri": "https://localhost:8080/"
        },
        "id": "s1duj4sCT_c_",
        "outputId": "7acc62ba-77d6-4860-f6d6-37bcfbf6b0d2"
      },
      "execution_count": 23,
      "outputs": [
        {
          "output_type": "stream",
          "name": "stdout",
          "text": [
            "new theta = \n",
            " [[-3.24140214  1.1272942 ]]\n",
            "Cost \n",
            " [5.02798147 5.02599676 5.0240192  5.02204877 5.02008543 5.01812917\n",
            " 5.01617995 5.01423775 5.01230255 5.01037431]\n",
            "Cost \n",
            " [4.51753402 4.51738791 4.51724233 4.51709728 4.51695275 4.51680874\n",
            " 4.51666525 4.51652227 4.51637981 4.51623786 4.51609643]\n",
            "Final cost \n",
            " 4.515955503078914\n"
          ]
        }
      ]
    },
    {
      "cell_type": "markdown",
      "source": [
        "**Getting the best fit line**"
      ],
      "metadata": {
        "id": "79juvcWVVqiv"
      }
    },
    {
      "cell_type": "code",
      "source": [
        "x=np.linspace(data.Population.min(),data.Population.max(), 100)\n",
        "f= g[0,0] + (g[0,1]*x)  #linear eq with new theta"
      ],
      "metadata": {
        "id": "9gWX3U6wV9wP"
      },
      "execution_count": 26,
      "outputs": []
    },
    {
      "cell_type": "markdown",
      "source": [
        "**Drawing the best fit line**"
      ],
      "metadata": {
        "id": "l3977-yVW6fj"
      }
    },
    {
      "cell_type": "code",
      "source": [
        "fig,ax=plt.subplots(figsize=(5,5))\n",
        "ax.plot(x,f,'r',label='Prediction')\n",
        "ax.scatter(data.Population,data.Profit, label='Training data')\n",
        "ax.legend(loc=2)\n",
        "ax.set_xlabel('Population')\n",
        "ax.set_ylabel('Profit')\n",
        "ax.set_title('Predicted profit Vs. Population size')"
      ],
      "metadata": {
        "colab": {
          "base_uri": "https://localhost:8080/",
          "height": 504
        },
        "id": "1ky0cmJRW_rG",
        "outputId": "d058a631-858e-429a-c442-2e838d1325e2"
      },
      "execution_count": 27,
      "outputs": [
        {
          "output_type": "execute_result",
          "data": {
            "text/plain": [
              "Text(0.5, 1.0, 'Predicted profit Vs. Population size')"
            ]
          },
          "metadata": {},
          "execution_count": 27
        },
        {
          "output_type": "display_data",
          "data": {
            "text/plain": [
              "<Figure size 500x500 with 1 Axes>"
            ],
            "image/png": "[encoded data removed]"
          },
          "metadata": {}
        }
      ]
    },
    {
      "cell_type": "markdown",
      "source": [
        "**Drawing error graph**"
      ],
      "metadata": {
        "id": "h_GtqlclY0_H"
      }
    },
    {
      "cell_type": "code",
      "source": [
        "fig,ax=plt.subplots(figsize=(5,5))\n",
        "ax.plot(np.arange(iters),cost,'r',)\n",
        "ax.set_xlabel('Iterations')\n",
        "ax.set_ylabel('Cost')\n",
        "ax.set_title('Error Vs. Training Epoch')"
      ],
      "metadata": {
        "colab": {
          "base_uri": "https://localhost:8080/",
          "height": 504
        },
        "id": "qcHSvxyqY44V",
        "outputId": "56e94fd4-a618-4da1-dfab-3931df153127"
      },
      "execution_count": 29,
      "outputs": [
        {
          "output_type": "execute_result",
          "data": {
            "text/plain": [
              "Text(0.5, 1.0, 'Error Vs. Training Epoch')"
            ]
          },
          "metadata": {},
          "execution_count": 29
        },
        {
          "output_type": "display_data",
          "data": {
            "text/plain": [
              "<Figure size 500x500 with 1 Axes>"
            ],
            "image/png": "[encoded data removed]"
          },
          "metadata": {}
        }
      ]
    }
  ]
}